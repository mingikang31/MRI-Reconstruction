{
 "cells": [
  {
   "cell_type": "markdown",
   "id": "b7a28b6e",
   "metadata": {},
   "source": [
    "## Metrics (PSNR + SSIM) Playground"
   ]
  },
  {
   "cell_type": "code",
   "execution_count": 1,
   "id": "c9dfc670",
   "metadata": {},
   "outputs": [],
   "source": [
    "import os \n",
    "import sys \n",
    "import torch \n",
    "import torch.nn as nn\n",
    "import torch.nn.functional as F"
   ]
  },
  {
   "cell_type": "code",
   "execution_count": 2,
   "id": "2fa7b113",
   "metadata": {},
   "outputs": [],
   "source": [
    "def psnr(output, target, max_val=1.0):\n",
    "    mse = nn.functional.mse_loss(output, target)\n",
    "    if mse == 0:\n",
    "        return float('inf')  # PSNR is infinite if there is no error\n",
    "    return 20 * torch.log10(max_val / torch.sqrt(mse))\n",
    "\n",
    "def ssim(output, target, max_val=1.0):\n",
    "    C1 = (0.01 * max_val) ** 2\n",
    "    C2 = (0.03 * max_val) ** 2\n",
    "    \n",
    "    mu_x = F.avg_pool2d(output, kernel_size=11, stride=1, padding=5)\n",
    "    mu_y = F.avg_pool2d(target, kernel_size=11, stride=1, padding=5)\n",
    "    \n",
    "    sigma_x = F.avg_pool2d(output * output, kernel_size=11, stride=1, padding=5) - mu_x * mu_x\n",
    "    sigma_y = F.avg_pool2d(target * target, kernel_size=11, stride=1, padding=5) - mu_y * mu_y\n",
    "    sigma_xy = F.avg_pool2d(output * target, kernel_size=11, stride=1, padding=5) - mu_x * mu_y\n",
    "    \n",
    "    ssim_map = ((2 * mu_x * mu_y + C1) * (2 * sigma_xy + C2)) / ((mu_x ** 2 + mu_y ** 2 + C1) * (sigma_x + sigma_y + C2))\n",
    "    \n",
    "    return torch.mean(ssim_map)\n"
   ]
  },
  {
   "cell_type": "code",
   "execution_count": 3,
   "id": "717d8598",
   "metadata": {},
   "outputs": [
    {
     "name": "stdout",
     "output_type": "stream",
     "text": [
      "Current working directory: /export1/project/mingi/MRI-Reconstruction\n"
     ]
    }
   ],
   "source": [
    "# print working directory \n",
    "print(\"Current working directory:\", os.getcwd())"
   ]
  },
  {
   "cell_type": "code",
   "execution_count": 4,
   "id": "255bc439",
   "metadata": {},
   "outputs": [],
   "source": [
    "# Load images function \n",
    "def load_image(image_path):\n",
    "    from PIL import Image\n",
    "    import torchvision.transforms as transforms\n",
    "    image = Image.open(image_path).convert('RGB')\n",
    "    transform = transforms.ToTensor()\n",
    "    return transform(image).unsqueeze(0)  # Add batch dimension\n",
    "\n"
   ]
  },
  {
   "cell_type": "code",
   "execution_count": 8,
   "id": "a9017f3d",
   "metadata": {},
   "outputs": [
    {
     "name": "stdout",
     "output_type": "stream",
     "text": [
      "torch.Size([1, 3, 320, 320]) torch.Size([1, 3, 320, 320])\n",
      "PSNR value:  30.54088592529297\n",
      "SSIM value:  0.8830821514129639\n"
     ]
    }
   ],
   "source": [
    "clean_dir = \"data/4000_img/Clean/0336.png\"\n",
    "noisy_dir = \"data/4000_img/GRAPPA_acc2/image_0336.png\"\n",
    "clean_image = load_image(clean_dir)\n",
    "noisy_image = load_image(noisy_dir)\n",
    "\n",
    "print(clean_image.shape, noisy_image.shape)\n",
    "\n",
    "psnr_value = psnr(noisy_image, clean_image)\n",
    "ssim_value = ssim(noisy_image, clean_image)\n",
    "\n",
    "print(\"PSNR value: \", psnr_value.item())\n",
    "print(\"SSIM value: \", ssim_value.item())"
   ]
  },
  {
   "cell_type": "code",
   "execution_count": 6,
   "id": "7c8772db",
   "metadata": {},
   "outputs": [
    {
     "name": "stdout",
     "output_type": "stream",
     "text": [
      "torch.Size([1, 3, 320, 320]) torch.Size([1, 3, 320, 320])\n",
      "PSNR value:  32.79168701171875\n",
      "SSIM value:  0.9352624416351318\n"
     ]
    }
   ],
   "source": [
    "clean_dir = \"data/4000_img/GRAPPA_acc2/image_0336.png\"\n",
    "noisy_dir = \"data/4000_img/GRAPPA_acc6/image_0336.png\"\n",
    "clean_image = load_image(clean_dir)\n",
    "noisy_image = load_image(noisy_dir)\n",
    "\n",
    "print(clean_image.shape, noisy_image.shape)\n",
    "\n",
    "psnr_value = psnr(noisy_image, clean_image)\n",
    "ssim_value = ssim(noisy_image, clean_image)\n",
    "\n",
    "print(\"PSNR value: \", psnr_value.item())\n",
    "print(\"SSIM value: \", ssim_value.item())"
   ]
  },
  {
   "cell_type": "code",
   "execution_count": null,
   "id": "76b17118",
   "metadata": {},
   "outputs": [],
   "source": []
  }
 ],
 "metadata": {
  "kernelspec": {
   "display_name": "MRI",
   "language": "python",
   "name": "python3"
  },
  "language_info": {
   "codemirror_mode": {
    "name": "ipython",
    "version": 3
   },
   "file_extension": ".py",
   "mimetype": "text/x-python",
   "name": "python",
   "nbconvert_exporter": "python",
   "pygments_lexer": "ipython3",
   "version": "3.10.16"
  }
 },
 "nbformat": 4,
 "nbformat_minor": 5
}
